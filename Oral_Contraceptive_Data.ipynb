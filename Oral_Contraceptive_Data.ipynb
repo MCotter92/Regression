{
 "cells": [
  {
   "cell_type": "code",
   "execution_count": 60,
   "metadata": {},
   "outputs": [],
   "source": [
    "import numpy as np\n",
    "import matplotlib.pyplot as plt\n",
    "import pandas as pd"
   ]
  },
  {
   "cell_type": "markdown",
   "metadata": {},
   "source": [
    "Loading in the data and cleaning."
   ]
  },
  {
   "cell_type": "code",
   "execution_count": 61,
   "metadata": {},
   "outputs": [
    {
     "name": "stdout",
     "output_type": "stream",
     "text": [
      "<bound method NDFrame.head of    Gp1Y  Gp1X  Gp2Y  Gp2X  Gp3Y  Gp3X  Gp4Y  Gp4X  Gp5Y  Gp5X\n",
      "0    43    49    58    56   100   102    50    57    41    37\n",
      "1    61    73    46    49    52    64    50    55    58    60\n",
      "2    45    55    66    64    49    60    52    64    58    39\n",
      "3    46    55    59    63    51    51    58    49    69    60\n",
      "4    59    63    71    90    48    59    65    78    68    71\n",
      "5    57    53    64    56    51    57    71    63    64    63\n",
      "6    56    51    53    46    40    63    52    62    46    51\n",
      "7    68    74    50    64    52    62    49    50    56    64\n",
      "8    46    58    68    75    44    61    49    60    51    45\n",
      "9    47    41    35    58    50    58    58    59    57    58>\n"
     ]
    }
   ],
   "source": [
    "URL = \"https://www.biz.uiowa.edu/faculty/jledolter/RegressionModeling/Data/Chapter1/contraceptive.txt\"\n",
    "DF = pd.read_csv(URL, sep= \"\\t\") # \\t represents a tab or new column. sep = \"\\t\" removes it. \n",
    "print(DF.head)\n"
   ]
  },
  {
   "cell_type": "code",
   "execution_count": 106,
   "metadata": {},
   "outputs": [
    {
     "data": {
      "image/png": "[encoded data removed]",
      "text/plain": [
       "<Figure size 640x480 with 1 Axes>"
      ]
     },
     "metadata": {},
     "output_type": "display_data"
    }
   ],
   "source": [
    "G1x = DF.iloc[ :, [0]]           # Pulling out the odd indexed columns. \n",
    "G1x_list_of_lists = G1x.values.tolist()  # Converting each columns to lists and storing within a larger list. \n",
    "\n",
    "G1x_list = []                            # Unpacking the list of lists.\n",
    "for i in G1x_list_of_lists: \n",
    "    for j in i: \n",
    "        G1x_list.append(j)\n",
    "\n",
    "G1z = DF.iloc[ :, [1]]           # Pulling out the odd indexed columns. \n",
    "G1z_list_of_lists = G1z.values.tolist()  # Converting each columns to lists and storing within a larger list. \n",
    "\n",
    "G1z_list = []                            # Unpacking the list of lists.\n",
    "for i in G1z_list_of_lists: \n",
    "    for j in i: \n",
    "        G1z_list.append(j)\n",
    "\n",
    "G2x = DF.iloc[ :, [2]]           # Pulling out the odd indexed columns. \n",
    "G2x_list_of_lists = G2x.values.tolist()  # Converting each columns to lists and storing within a larger list. \n",
    "\n",
    "G2x_list = []                            # Unpacking the list of lists.\n",
    "for i in G2x_list_of_lists: \n",
    "    for j in i: \n",
    "        G2x_list.append(j)\n",
    "\n",
    "G2z = DF.iloc[ :, [3]]           # Pulling out the odd indexed columns. \n",
    "G2z_list_of_lists = G2z.values.tolist()  # Converting each columns to lists and storing within a larger list. \n",
    "\n",
    "G2z_list = []                            # Unpacking the list of lists.\n",
    "for i in G2z_list_of_lists: \n",
    "    for j in i: \n",
    "        G2z_list.append(j)\n",
    "\n",
    "G3x = DF.iloc[ :, [4]]           # Pulling out the odd indexed columns. \n",
    "G3x_list_of_lists = G3x.values.tolist()  # Converting each columns to lists and storing within a larger list. \n",
    "\n",
    "G3x_list = []                            # Unpacking the list of lists.\n",
    "for i in G3x_list_of_lists: \n",
    "    for j in i: \n",
    "        G3x_list.append(j)\n",
    "\n",
    "G3z = DF.iloc[ :, [5]]           # Pulling out the odd indexed columns. \n",
    "G3z_list_of_lists = G3z.values.tolist()  # Converting each columns to lists and storing within a larger list. \n",
    "\n",
    "G3z_list = []                            # Unpacking the list of lists.\n",
    "for i in G3z_list_of_lists: \n",
    "    for j in i: \n",
    "        G3z_list.append(j)\n",
    "\n",
    "G4x = DF.iloc[ :, [6]]           # Pulling out the odd indexed columns. \n",
    "G4x_list_of_lists = G4x.values.tolist()  # Converting each columns to lists and storing within a larger list. \n",
    "\n",
    "G4x_list = []                            # Unpacking the list of lists.\n",
    "for i in G4x_list_of_lists: \n",
    "    for j in i: \n",
    "        G4x_list.append(j)\n",
    "\n",
    "G4z = DF.iloc[ :, [7]]           # Pulling out the odd indexed columns. \n",
    "G4z_list_of_lists = G4z.values.tolist()  # Converting each columns to lists and storing within a larger list. \n",
    "\n",
    "G4z_list = []                            # Unpacking the list of lists.\n",
    "for i in G4z_list_of_lists: \n",
    "    for j in i: \n",
    "        G4z_list.append(j)\n",
    "\n",
    "G5x = DF.iloc[ :, [8]]           # Pulling out the odd indexed columns. \n",
    "G5x_list_of_lists = G5x.values.tolist()  # Converting each columns to lists and storing within a larger list. \n",
    "\n",
    "G5x_list = []                            # Unpacking the list of lists.\n",
    "for i in G5x_list_of_lists: \n",
    "    for j in i: \n",
    "        G5x_list.append(j)\n",
    "\n",
    "G5z = DF.iloc[ :, [9]]           # Pulling out the odd indexed columns. \n",
    "G5z_list_of_lists = G5z.values.tolist()  # Converting each columns to lists and storing within a larger list. \n",
    "\n",
    "G5z_list = []                            # Unpacking the list of lists.\n",
    "for i in G5z_list_of_lists: \n",
    "    for j in i: \n",
    "        G5z_list.append(j)\n",
    "\n",
    "\n",
    "fig, ax  = plt.subplots()   \n",
    "G1 = ax.scatter(G1x, G1z) # Plotting the data.\n",
    "G2 = ax.scatter(G2x, G2z, marker = \"*\")\n",
    "G3 = ax.scatter(G3x, G3z, marker = \"+\")  \n",
    "G4 = ax.scatter(G4x, G4z, marker = \"v\")\n",
    "G5 = ax.scatter(G5x, G5z, marker = \".\")\n",
    "plt.legend([\"Group 1\", \"Group 2\", \"Group 3\", \"Group 4\", \"Group 5\"])\n",
    "plt.show()"
   ]
  },
  {
   "cell_type": "markdown",
   "metadata": {},
   "source": [
    "The above code works but I think it is inefficient. I would like to find a way to use a single loop to parse my data by column into their respecitve lists. "
   ]
  }
 ],
 "metadata": {
  "kernelspec": {
   "display_name": ".venv",
   "language": "python",
   "name": "python3"
  },
  "language_info": {
   "codemirror_mode": {
    "name": "ipython",
    "version": 3
   },
   "file_extension": ".py",
   "mimetype": "text/x-python",
   "name": "python",
   "nbconvert_exporter": "python",
   "pygments_lexer": "ipython3",
   "version": "3.11.3"
  }
 },
 "nbformat": 4,
 "nbformat_minor": 2
}
